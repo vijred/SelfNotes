{
 "cells": [
  {
   "cell_type": "code",
   "execution_count": null,
   "metadata": {
    "application/vnd.databricks.v1+cell": {
     "cellMetadata": {
      "byteLimit": 2048000,
      "rowLimit": 10000
     },
     "collapsed": true,
     "inputWidgets": {},
     "nuid": "910e1389-b3df-4714-a554-3a647d0ca2b5",
     "showTitle": false,
     "title": ""
    }
   },
   "outputs": [],
   "source": [
    "# %pip install azure-storage-blob"
   ]
  },
  {
   "cell_type": "code",
   "execution_count": null,
   "metadata": {
    "application/vnd.databricks.v1+cell": {
     "cellMetadata": {
      "byteLimit": 2048000,
      "rowLimit": 10000
     },
     "inputWidgets": {},
     "nuid": "70fbf65b-594c-477d-a92b-45c81d1ac9ad",
     "showTitle": false,
     "title": ""
    }
   },
   "outputs": [],
   "source": [
    "from azure.storage.blob import BlobServiceClient, ContainerClient \n",
    "import pandas as pd \n",
    "\n",
    "from io import BytesIO \n",
    "from io import StringIO \n",
    "import boto3 "
   ]
  },
  {
   "cell_type": "code",
   "execution_count": null,
   "metadata": {
    "application/vnd.databricks.v1+cell": {
     "cellMetadata": {
      "byteLimit": 2048000,
      "rowLimit": 10000
     },
     "inputWidgets": {},
     "nuid": "582354af-6c73-4b33-8b90-5295ccbbe403",
     "showTitle": false,
     "title": ""
    }
   },
   "outputs": [],
   "source": [
    "print(\"Reading data from Azure Blob...\") \n",
    "\n",
    "src_storage_accnt = \"datalakestorageaccount\" \n",
    "src_container = \"mycontainer\" \n",
    "src_file = \"folderstructure/folders/blabla.csv\" \n",
    "connect_str = \"DefaultEndpointsProtocol=https;AccountName=datalakestorageaccount;AccountKey=afdsfdafdsfdsfdsafdsafdsfdsafdsfdsfdsfsdfdsf/dfdsfdsfsdfs/dsfdsf==;EndpointSuffix=core.windows.net\" \n",
    "blob_service_client = ContainerClient.from_connection_string(conn_str=connect_str, container_name=src_container) \n",
    "\n",
    "try: \n",
    "    blob_data = blob_service_client.download_blob(src_file) \n",
    "    src_blob = blob_data.readall() \n",
    "except Exception as e: \n",
    "    print(\"Exception occurred while reading data from blob\") \n",
    "    raise Exception(\"Data read exception\") \n",
    "print(\"Data read from Azure Blob successfully...\")"
   ]
  },
  {
   "cell_type": "code",
   "execution_count": null,
   "metadata": {
    "application/vnd.databricks.v1+cell": {
     "cellMetadata": {
      "byteLimit": 2048000,
      "rowLimit": 10000
     },
     "inputWidgets": {},
     "nuid": "c2f3c8a2-cf0f-4f34-8657-56caa5a5925f",
     "showTitle": false,
     "title": ""
    }
   },
   "outputs": [],
   "source": [
    "print(\"Writing data to AWS S3...\") \n",
    "tgt_bucket = \"__targets3bucketName\" \n",
    "tgt_directory = \"__s3pth\" \n",
    "tgt_file = \"__somefilename.csv\" \n",
    "tgt_user = \"__someone_not_big_deal\" \n",
    "\n",
    "try: \n",
    "    access_key = \"__ASDFDFDFDFDFDFDFDFDFD\" \n",
    "    secret_key = \"__asfdsfdsfdsfdsfdsfdsf8dsfd8f8df8df8d8fd8fd8sf8ds8fd8fd8f\" \n",
    "    aws_object_key = tgt_directory + \"/\" + tgt_file \n",
    "    s3 = boto3.client(\"s3\", aws_access_key_id=access_key, aws_secret_access_key=secret_key) \n",
    "    s3.put_object(Body=src_blob, Bucket=tgt_bucket, Key=aws_object_key) \n",
    "\n",
    "except Exception as e: \n",
    "    print(\"Exception occurred while writing data to bucket\") \n",
    "    raise Exception(\"Data write exception\") \n",
    "print(\"Data written to AWS S3 successfully...\")"
   ]
  }
 ],
 "metadata": {
  "application/vnd.databricks.v1+notebook": {
   "dashboards": [],
   "environmentMetadata": null,
   "language": "python",
   "notebookMetadata": {
    "pythonIndentUnit": 4
   },
   "notebookName": "paychex_to_affinity",
   "widgets": {}
  },
  "kernelspec": {
   "display_name": "Python 3",
   "language": "python",
   "name": "python3"
  },
  "language_info": {
   "codemirror_mode": {
    "name": "ipython",
    "version": 3
   },
   "file_extension": ".py",
   "mimetype": "text/x-python",
   "name": "python",
   "nbconvert_exporter": "python",
   "pygments_lexer": "ipython3",
   "version": "3.10.4"
  }
 },
 "nbformat": 4,
 "nbformat_minor": 0
}
